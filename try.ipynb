{
 "cells": [
  {
   "cell_type": "code",
   "execution_count": 1,
   "id": "0d767440-a900-4242-ab42-eb7d14422fe4",
   "metadata": {},
   "outputs": [
    {
     "data": {
      "text/plain": [
       "12"
      ]
     },
     "execution_count": 1,
     "metadata": {},
     "output_type": "execute_result"
    }
   ],
   "source": [
    "3+9"
   ]
  },
  {
   "cell_type": "code",
   "execution_count": 3,
   "id": "3595ad77-ea0f-4f36-b96e-c66bec690e07",
   "metadata": {},
   "outputs": [
    {
     "data": {
      "text/plain": [
       "'helo'"
      ]
     },
     "execution_count": 3,
     "metadata": {},
     "output_type": "execute_result"
    }
   ],
   "source": [
    "'helo'"
   ]
  },
  {
   "cell_type": "code",
   "execution_count": 24,
   "id": "dcfc8847-8586-4623-8477-18c9f7b34eb3",
   "metadata": {},
   "outputs": [],
   "source": [
    "s = 'hello'"
   ]
  },
  {
   "cell_type": "code",
   "execution_count": 25,
   "id": "9b2eb353-6ab6-4eee-83b7-989e73150a33",
   "metadata": {},
   "outputs": [
    {
     "data": {
      "text/plain": [
       "'hello'"
      ]
     },
     "execution_count": 25,
     "metadata": {},
     "output_type": "execute_result"
    }
   ],
   "source": [
    "s"
   ]
  },
  {
   "cell_type": "code",
   "execution_count": 5,
   "id": "8c8dfdb7-202a-4faf-81a3-d6d709d70fc8",
   "metadata": {},
   "outputs": [
    {
     "data": {
      "text/plain": [
       "float"
      ]
     },
     "execution_count": 5,
     "metadata": {},
     "output_type": "execute_result"
    }
   ],
   "source": [
    "pi=22/7\n",
    "type(pi)"
   ]
  },
  {
   "cell_type": "code",
   "execution_count": 6,
   "id": "9d767118-891e-4626-8c1b-5e1bc1209607",
   "metadata": {},
   "outputs": [
    {
     "ename": "SyntaxError",
     "evalue": "invalid syntax (3639871942.py, line 1)",
     "output_type": "error",
     "traceback": [
      "\u001b[1;36m  Cell \u001b[1;32mIn[6], line 1\u001b[1;36m\u001b[0m\n\u001b[1;33m    for=4\u001b[0m\n\u001b[1;37m       ^\u001b[0m\n\u001b[1;31mSyntaxError\u001b[0m\u001b[1;31m:\u001b[0m invalid syntax\n"
     ]
    }
   ],
   "source": [
    "for=4"
   ]
  },
  {
   "cell_type": "code",
   "execution_count": 16,
   "id": "1e87a6c5-a8f0-476f-a7b1-e4b4da3db654",
   "metadata": {},
   "outputs": [
    {
     "data": {
      "text/plain": [
       "(float, 67500.0)"
      ]
     },
     "execution_count": 16,
     "metadata": {},
     "output_type": "execute_result"
    }
   ],
   "source": [
    "P=10000\n",
    "T=45\n",
    "R=15\n",
    "simple_interest=(P*T*R)/100\n",
    "type(simple_interest), simple_interest"
   ]
  },
  {
   "cell_type": "code",
   "execution_count": 17,
   "id": "68cc207e-b621-4fe9-9334-bbd5a9582dd7",
   "metadata": {},
   "outputs": [
    {
     "data": {
      "text/plain": [
       "'145'"
      ]
     },
     "execution_count": 17,
     "metadata": {},
     "output_type": "execute_result"
    }
   ],
   "source": [
    "format(145)"
   ]
  },
  {
   "cell_type": "code",
   "execution_count": 18,
   "id": "61516673-ebcf-4e6f-850e-548ad80ea0bd",
   "metadata": {},
   "outputs": [
    {
     "ename": "NameError",
     "evalue": "name 'o' is not defined",
     "output_type": "error",
     "traceback": [
      "\u001b[1;31m---------------------------------------------------------------------------\u001b[0m",
      "\u001b[1;31mNameError\u001b[0m                                 Traceback (most recent call last)",
      "Cell \u001b[1;32mIn[18], line 1\u001b[0m\n\u001b[1;32m----> 1\u001b[0m \u001b[38;5;28mformat\u001b[39m(\u001b[43mo\u001b[49m)\n",
      "\u001b[1;31mNameError\u001b[0m: name 'o' is not defined"
     ]
    }
   ],
   "source": [
    "format(o)"
   ]
  },
  {
   "cell_type": "code",
   "execution_count": 22,
   "id": "7a96ddfe-5992-4347-bec1-64366860408f",
   "metadata": {},
   "outputs": [
    {
     "ename": "SyntaxError",
     "evalue": "invalid syntax (1037738107.py, line 4)",
     "output_type": "error",
     "traceback": [
      "\u001b[1;36m  Cell \u001b[1;32mIn[22], line 4\u001b[1;36m\u001b[0m\n\u001b[1;33m    (int)speed\u001b[0m\n\u001b[1;37m         ^\u001b[0m\n\u001b[1;31mSyntaxError\u001b[0m\u001b[1;31m:\u001b[0m invalid syntax\n"
     ]
    }
   ],
   "source": [
    "Distance = int(490)\n",
    "time=int(7*60)\n",
    "speed=Distance/time\n",
    "(int)speed"
   ]
  },
  {
   "cell_type": "code",
   "execution_count": 27,
   "id": "b5fcfe5f-633a-4aff-967e-6a525d500eb0",
   "metadata": {},
   "outputs": [
    {
     "data": {
      "text/plain": [
       "22155.84"
      ]
     },
     "execution_count": 27,
     "metadata": {},
     "output_type": "execute_result"
    }
   ],
   "source": [
    "Radius=84\n",
    "Area_of_circle=3.14*Radius**2\n",
    "Area_of_circle"
   ]
  },
  {
   "cell_type": "code",
   "execution_count": 28,
   "id": "27167180-b401-4729-a161-ba8555083dbc",
   "metadata": {},
   "outputs": [],
   "source": [
    "import os\n",
    "path = os.getcwd()"
   ]
  },
  {
   "cell_type": "code",
   "execution_count": 29,
   "id": "7ab25b1b-bc63-43f1-a941-8becca477952",
   "metadata": {},
   "outputs": [
    {
     "data": {
      "text/plain": [
       "'C:\\\\Users\\\\Hp'"
      ]
     },
     "execution_count": 29,
     "metadata": {},
     "output_type": "execute_result"
    }
   ],
   "source": [
    "path"
   ]
  },
  {
   "cell_type": "code",
   "execution_count": null,
   "id": "20332295-86c1-4882-a80c-630e9d718c2e",
   "metadata": {},
   "outputs": [],
   "source": []
  }
 ],
 "metadata": {
  "kernelspec": {
   "display_name": "Python 3 (ipykernel)",
   "language": "python",
   "name": "python3"
  },
  "language_info": {
   "codemirror_mode": {
    "name": "ipython",
    "version": 3
   },
   "file_extension": ".py",
   "mimetype": "text/x-python",
   "name": "python",
   "nbconvert_exporter": "python",
   "pygments_lexer": "ipython3",
   "version": "3.8.10"
  }
 },
 "nbformat": 4,
 "nbformat_minor": 5
}
